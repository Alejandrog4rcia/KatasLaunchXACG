{
 "cells": [
  {
   "cell_type": "markdown",
   "metadata": {},
   "source": [
    "# Agrega el código para crear una variable para un asteroide que viaja a 19 km/s\n",
    "# Escribe varias expresiones de prueba para determinar si puedes ver el rayo de luz desde la tierra\n",
    "# Agrega las instrucciones que se ejecutarán si las expresiones de prueba son True o False"
   ]
  },
  {
   "cell_type": "code",
   "execution_count": 11,
   "metadata": {},
   "outputs": [
    {
     "name": "stdout",
     "output_type": "stream",
     "text": [
      "Advertencia, el asteroide se dirige a la Tierra demasiado rapido\n"
     ]
    }
   ],
   "source": [
    "vel_ast=49\n",
    "if vel_ast>25:\n",
    "    print(\"Advertencia, el asteroide se dirige a la Tierra demasiado rapido\")\n",
    "\n",
    "else:\n",
    "    print(\"La velocidad del asteroide se encuentra en un rango normal\")\n"
   ]
  },
  {
   "cell_type": "markdown",
   "metadata": {},
   "source": [
    "# Agrega el código para crear una variable para un asteroide que viaja a 19 km/s\n",
    "# Escribe varias expresiones de prueba para determinar si puedes ver el rayo de luz desde la tierra\n",
    "# Agrega las instrucciones que se ejecutarán si las expresiones de prueba son True o False"
   ]
  },
  {
   "cell_type": "code",
   "execution_count": 12,
   "metadata": {},
   "outputs": [
    {
     "name": "stdout",
     "output_type": "stream",
     "text": [
      "Quédate en casa\n"
     ]
    }
   ],
   "source": [
    "vel_ast=19\n",
    "if vel_ast>20:\n",
    "    print(\"Mira al cielo, verás algo espectacular\")\n",
    "elif vel_ast==20:\n",
    "    print(\"Mira al cielo, puede que veas algo espectacular\")\n",
    "else:\n",
    "    print(\"Quédate en casa, el asteroide es muy lento\")\n"
   ]
  },
  {
   "cell_type": "markdown",
   "metadata": {},
   "source": [
    "# Agrega el código para crear nuevas variables para la velocidad y el tamaño del asteroide\n",
    "# Para probar el código, prueba con varias velocidades y tamaños\n",
    "# Escribe varias expresiones de prueba o combinaciones de expresiones de prueba para determinar qué mensaje se debe enviar a Tierra."
   ]
  },
  {
   "cell_type": "code",
   "execution_count": 39,
   "metadata": {},
   "outputs": [
    {
     "name": "stdout",
     "output_type": "stream",
     "text": [
      "Quédate en casa, el asteroide es muy lento\n"
     ]
    }
   ],
   "source": [
    "vel_ast=19\n",
    "tam_ast=30\n",
    "if vel_ast>25 and tam_ast>25:\n",
    "    print(\"Advertencia, asteroide de gran tamaño se dirige velozmente a la Tierra\")\n",
    "elif vel_ast>=20:\n",
    "    print(\"Mira al cielo, puede que veas algo espectacular\")\n",
    "elif tam_ast < 25:\n",
    "    print('Quédate en casa, el asteroide es muy pequeño')\n",
    "else:\n",
    "    print(\"Quédate en casa, el asteroide es muy lento\")"
   ]
  }
 ],
 "metadata": {
  "interpreter": {
   "hash": "ece2d126ad6290e084bbfd1130368835a021ea5fc92e6faafd7d56e7db4197e6"
  },
  "kernelspec": {
   "display_name": "Python 3.10.2 64-bit",
   "language": "python",
   "name": "python3"
  },
  "language_info": {
   "codemirror_mode": {
    "name": "ipython",
    "version": 3
   },
   "file_extension": ".py",
   "mimetype": "text/x-python",
   "name": "python",
   "nbconvert_exporter": "python",
   "pygments_lexer": "ipython3",
   "version": "3.10.2"
  },
  "orig_nbformat": 4
 },
 "nbformat": 4,
 "nbformat_minor": 2
}
