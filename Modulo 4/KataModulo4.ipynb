{
 "cells": [
  {
   "cell_type": "markdown",
   "metadata": {},
   "source": [
    "Primero, divide el texto en cada oración para trabajar con su contenido\n",
    "Ahora, define algunas palabras clave para búsqueda que te ayudarán a determinar si una oración contiene un hecho.\n",
    "Cree un bucle para imprimir solo datos sobre la Luna que estén relacionados con las palabras clave definidas anteriormente:\n",
    "Finalmente, actualiza el bucle(ciclo) para cambiar C a Celsius:\n"
   ]
  },
  {
   "cell_type": "code",
   "execution_count": 30,
   "metadata": {},
   "outputs": [
    {
     "name": "stdout",
     "output_type": "stream",
     "text": [
      "['Interesting facts about the Moon', \" The Moon is Earth's only satellite\", ' There are several interesting facts about the Moon and how it affects life here on Earth', ' \\nOn average, the Moon moves 4cm away from the Earth every year', ' This yearly drift is not significant enough to cause immediate effects on Earth', ' The highest daylight temperature of the Moon is 127 C', '']\n",
      " \n",
      "On average, the Moon moves 4cm away from the Earth every year\n",
      " The highest daylight temperature of the Moon is 127 Celsius\n"
     ]
    }
   ],
   "source": [
    "text = \"\"\"Interesting facts about the Moon. The Moon is Earth's only satellite. There are several interesting facts about the Moon and how it affects life here on Earth. \n",
    "On average, the Moon moves 4cm away from the Earth every year. This yearly drift is not significant enough to cause immediate effects on Earth. The highest daylight temperature of the Moon is 127 C.\"\"\"\n",
    "textdiv = text.split('.')\n",
    "print(textdiv)\n",
    "key_words = [\"average\", \"temperature\", \"distance\"]\n",
    "for sentence in textdiv:\n",
    "    for key_word in key_words:\n",
    "        if key_word in sentence:\n",
    "            print(sentence.replace('C','Celsius'))\n",
    "            break\n",
    "\n",
    "           \n"
   ]
  },
  {
   "cell_type": "code",
   "execution_count": 38,
   "metadata": {},
   "outputs": [
    {
     "name": "stdout",
     "output_type": "stream",
     "text": [
      "Gravity on Earth's Moon\n",
      "-------------------------------------------------------------------------------- \n",
      "Planet name: Earth \n",
      "gravity: 1.62 m/s2 \n",
      "Gravity on Mars Moon Ganímedes\n",
      "-------------------------------------------------------------------------------- \n",
      "Planet name: Marte  \n",
      "gravity: 1.43 m/s2 \n"
     ]
    }
   ],
   "source": [
    "name = \"Moon\"\n",
    "gravity = 0.00162 # in kms\n",
    "planet = \"Earth\"\n",
    "title= \"Gravity on Earth's Moon\"\n",
    "facts = f\"\"\"{title}\n",
    "{'-'*80} \n",
    "Planet name: {planet} \n",
    "gravity: {round(gravity * 1000,3)} m/s2 \"\"\"\n",
    "print (facts)\n",
    "planet = 'Mars'\n",
    "gravity  = 0.00143\n",
    "title = \"Gravity on Mars Moon Ganímedes\"\n",
    "newfacts = f\"\"\"{title}\n",
    "{'-'*80} \n",
    "Planet name: {planet} \n",
    "gravity: {round(gravity * 1000,3)} m/s2 \"\"\"\n",
    "print (newfacts)"
   ]
  }
 ],
 "metadata": {
  "interpreter": {
   "hash": "ece2d126ad6290e084bbfd1130368835a021ea5fc92e6faafd7d56e7db4197e6"
  },
  "kernelspec": {
   "display_name": "Python 3.10.2 64-bit",
   "language": "python",
   "name": "python3"
  },
  "language_info": {
   "codemirror_mode": {
    "name": "ipython",
    "version": 3
   },
   "file_extension": ".py",
   "mimetype": "text/x-python",
   "name": "python",
   "nbconvert_exporter": "python",
   "pygments_lexer": "ipython3",
   "version": "3.10.2"
  },
  "orig_nbformat": 4
 },
 "nbformat": 4,
 "nbformat_minor": 2
}
